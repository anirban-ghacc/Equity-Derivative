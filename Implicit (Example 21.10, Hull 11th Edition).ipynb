{
 "cells": [
  {
   "cell_type": "markdown",
   "id": "2b9de755",
   "metadata": {},
   "source": [
    "Consider a 5-month American put option on a non-dividend-paying stock when\n",
    "the stock price is 50, the strike price is 50, the risk-free interest rate is 10% per\n",
    "annum, and the volatility is 40% per annum. With our usual notation, this means\n",
    "that S0 = 50, K = 50, r = 0.10, s = 0.40, T = 0.4167, and q = 0.\n",
    "\n",
    "Values of 20, 10, and 5 were chosen for M, N, and ΔS, respectively. Thus, the option price is\n",
    "evaluated at dollar5 stock price intervals between dollar0 and dollar100 and at half-month time\n",
    "intervals throughout the life of the option. The option price given by the grid is\n",
    "dollar4.07.\n",
    "The same grid gives the price of the corresponding European option as\n",
    "dollar3.91"
   ]
  },
  {
   "cell_type": "code",
   "execution_count": 1,
   "id": "82041890",
   "metadata": {},
   "outputs": [],
   "source": [
    "import numpy as np\n",
    "import scipy.linalg as linalg\n",
    "from numpy import exp\n",
    "import pandas as pd"
   ]
  },
  {
   "cell_type": "code",
   "execution_count": 2,
   "id": "d59a26c4",
   "metadata": {},
   "outputs": [],
   "source": [
    "def ImplicitFDS(S0,K,r,T,sigma,Smax,M,N,AMvsEU,CALLvsPUT):\n",
    "    dS=Smax/float(M)\n",
    "    dt=T/float(N)\n",
    "    i_values=np.arange(M)\n",
    "    j_values=np.arange(N)\n",
    "    grid=np.zeros(shape=(M+1,N+1))\n",
    "    boundary_conds=np.linspace(0,Smax,M+1)\n",
    "    \n",
    "    if CALLvsPUT=='CALL':\n",
    "        grid[:,-1]= np.maximum(boundary_conds-K,0)\n",
    "        grid[-1,:-1]= Smax - K*exp(-r*dt*(N-j_values))  \n",
    "        if AMvsEU=='AM':\n",
    "            grid[-1,:-1]= np.maximum(grid[-1,:-1],Smax-K)\n",
    "    if CALLvsPUT=='PUT':\n",
    "        grid[:,-1]= np.maximum(K-boundary_conds,0)\n",
    "        grid[0,:-1]=K*exp(-r*dt*(N-j_values))\n",
    "        if AMvsEU=='AM':\n",
    "            grid[0,:-1]= np.maximum(grid[-1,:-1],K)\n",
    "        \n",
    "    a= 0.5*dt*((r*i_values) - (sigma**2 * i_values**2))\n",
    "    b= 1 + dt*((sigma**2 * i_values**2) + r)\n",
    "    c= -0.5*dt*((r*i_values) + (sigma**2 * i_values**2))\n",
    "    coeffs= np.diag(a[2:M],-1) + np.diag(b[1:M]) + np.diag(c[1:M-1],1)\n",
    "    \n",
    "    P, L, U = linalg.lu(coeffs)\n",
    "    aux = np.zeros(M-1)\n",
    "    for j in reversed(range(N)):\n",
    "        aux[0] = np.dot(a[1], grid[0, j])\n",
    "        aux[-1]= np.dot(c[-1],grid[-1,j])\n",
    "        x1 = linalg.solve(L, grid[1:M, j+1]-aux)\n",
    "        x2 = linalg.solve(U, x1)\n",
    "        grid[1:M, j] = x2  \n",
    "        if AMvsEU=='AM':\n",
    "            grid[1:M, j]=np.maximum(grid[1:M, j],grid[1:M, -1])\n",
    "            \n",
    "    dataset={'Stock price':boundary_conds,'t=0':np.round(grid[:,0],2),'t=0.5/12':np.round(grid[:,1],2),\n",
    "             't=1/12':np.round(grid[:,2],2),'t=1.5/12':np.round(grid[:,3],2),'t=2/12':np.round(grid[:,4],2),\n",
    "             't=2.5/12':np.round(grid[:,5],2),'t=3/12':np.round(grid[:,6],2),'t=3.5/12':np.round(grid[:,7],2),\n",
    "             't=4/12':np.round(grid[:,8],2),'t=4.5/12':np.round(grid[:,9],2),'t=5/12':np.round(grid[:,10],2)}\n",
    "    return pd.DataFrame(dataset)\n"
   ]
  },
  {
   "cell_type": "code",
   "execution_count": 3,
   "id": "43198c95",
   "metadata": {},
   "outputs": [
    {
     "name": "stdout",
     "output_type": "stream",
     "text": [
      "    Stock price    t=0  t=0.5/12  t=1/12  t=1.5/12  t=2/12  t=2.5/12  t=3/12  \\\n",
      "0           0.0  50.00     50.00   50.00     50.00   50.00     50.00   50.00   \n",
      "1           5.0  45.00     45.00   45.00     45.00   45.00     45.00   45.00   \n",
      "2          10.0  40.00     40.00   40.00     40.00   40.00     40.00   40.00   \n",
      "3          15.0  35.00     35.00   35.00     35.00   35.00     35.00   35.00   \n",
      "4          20.0  30.00     30.00   30.00     30.00   30.00     30.00   30.00   \n",
      "5          25.0  25.00     25.00   25.00     25.00   25.00     25.00   25.00   \n",
      "6          30.0  20.00     20.00   20.00     20.00   20.00     20.00   20.00   \n",
      "7          35.0  15.00     15.00   15.00     15.00   15.00     15.00   15.00   \n",
      "8          40.0  10.15     10.10   10.05     10.01   10.00     10.00   10.00   \n",
      "9          45.0   6.58      6.44    6.29      6.13    5.96      5.77    5.57   \n",
      "10         50.0   4.07      3.88    3.67      3.45    3.19      2.91    2.57   \n",
      "11         55.0   2.43      2.24    2.05      1.83    1.61      1.36    1.09   \n",
      "12         60.0   1.42      1.27    1.11      0.95    0.78      0.62    0.45   \n",
      "13         65.0   0.82      0.71    0.60      0.49    0.38      0.28    0.19   \n",
      "14         70.0   0.47      0.39    0.32      0.25    0.18      0.13    0.08   \n",
      "15         75.0   0.27      0.22    0.17      0.13    0.09      0.06    0.03   \n",
      "16         80.0   0.16      0.12    0.09      0.07    0.04      0.03    0.02   \n",
      "17         85.0   0.09      0.07    0.05      0.03    0.02      0.01    0.01   \n",
      "18         90.0   0.05      0.04    0.03      0.02    0.01      0.01    0.00   \n",
      "19         95.0   0.02      0.02    0.01      0.01    0.00      0.00    0.00   \n",
      "20        100.0   0.00      0.00    0.00      0.00    0.00      0.00    0.00   \n",
      "\n",
      "    t=3.5/12  t=4/12  t=4.5/12  t=5/12  \n",
      "0      50.00   50.00     50.00    50.0  \n",
      "1      45.00   45.00     45.00    45.0  \n",
      "2      40.00   40.00     40.00    40.0  \n",
      "3      35.00   35.00     35.00    35.0  \n",
      "4      30.00   30.00     30.00    30.0  \n",
      "5      25.00   25.00     25.00    25.0  \n",
      "6      20.00   20.00     20.00    20.0  \n",
      "7      15.00   15.00     15.00    15.0  \n",
      "8      10.00   10.00     10.00    10.0  \n",
      "9       5.36    5.17      5.02     5.0  \n",
      "10      2.17    1.66      0.99     0.0  \n",
      "11      0.81    0.51      0.22     0.0  \n",
      "12      0.30    0.16      0.05     0.0  \n",
      "13      0.11    0.05      0.02     0.0  \n",
      "14      0.04    0.02      0.00     0.0  \n",
      "15      0.02    0.01      0.00     0.0  \n",
      "16      0.01    0.00      0.00     0.0  \n",
      "17      0.00    0.00      0.00     0.0  \n",
      "18      0.00    0.00      0.00     0.0  \n",
      "19      0.00    0.00      0.00     0.0  \n",
      "20      0.00    0.00      0.00     0.0  \n"
     ]
    }
   ],
   "source": [
    "print(ImplicitFDS(50,50,0.10,5/12,0.40,100,20,10,'AM','PUT'))"
   ]
  },
  {
   "cell_type": "markdown",
   "id": "fdeeb485",
   "metadata": {},
   "source": [
    "European Option Valuation"
   ]
  },
  {
   "cell_type": "code",
   "execution_count": 4,
   "id": "44d54379",
   "metadata": {},
   "outputs": [],
   "source": [
    "def ImplicitFDS(S0,K,r,T,sigma,Smax,M,N,AMvsEU,CALLvsPUT):\n",
    "    dS=Smax/float(M)\n",
    "    dt=T/float(N)\n",
    "    i_values=np.arange(M)\n",
    "    j_values=np.arange(N)\n",
    "    grid=np.zeros(shape=(M+1,N+1))\n",
    "    boundary_conds=np.linspace(0,Smax,M+1)\n",
    "    \n",
    "    if CALLvsPUT=='CALL':\n",
    "        grid[:,-1]= np.maximum(boundary_conds-K,0)\n",
    "        grid[-1,:-1]= Smax - K*exp(-r*dt*(N-j_values))  \n",
    "        if AMvsEU=='AM':\n",
    "            grid[-1,:-1]= np.maximum(grid[-1,:-1],Smax-K)\n",
    "    if CALLvsPUT=='PUT':\n",
    "        grid[:,-1]= np.maximum(K-boundary_conds,0)\n",
    "        grid[0,:-1]=K*exp(-r*dt*(N-j_values))\n",
    "        if AMvsEU=='AM':\n",
    "            grid[0,:-1]= np.maximum(grid[-1,:-1],K)\n",
    "        \n",
    "    a= 0.5*dt*((r*i_values) - (sigma**2 * i_values**2))\n",
    "    b= 1 + dt*((sigma**2 * i_values**2) + r)\n",
    "    c= -0.5*dt*((r*i_values) + (sigma**2 * i_values**2))\n",
    "    coeffs= np.diag(a[2:M],-1) + np.diag(b[1:M]) + np.diag(c[1:M-1],1)\n",
    "    \n",
    "    P, L, U = linalg.lu(coeffs)\n",
    "    aux = np.zeros(M-1)\n",
    "    for j in reversed(range(N)):\n",
    "        aux[0] = np.dot(a[1], grid[0, j])\n",
    "        aux[-1]= np.dot(c[-1],grid[-1,j])\n",
    "        x1 = linalg.solve(L, grid[1:M, j+1]-aux)\n",
    "        x2 = linalg.solve(U, x1)\n",
    "        grid[1:M, j] = x2  \n",
    "        if AMvsEU=='AM':\n",
    "            grid[1:M, j]=np.maximum(grid[1:M, j],grid[1:M, -1])\n",
    "            \n",
    "    return np.interp(S0,boundary_conds,grid[:,0])"
   ]
  },
  {
   "cell_type": "code",
   "execution_count": 5,
   "id": "4bb229c6",
   "metadata": {},
   "outputs": [
    {
     "name": "stdout",
     "output_type": "stream",
     "text": [
      "3.911207736211867\n"
     ]
    }
   ],
   "source": [
    "print(ImplicitFDS(50,50,0.10,5/12,0.40,100,20,10,'EU','PUT'))"
   ]
  },
  {
   "cell_type": "code",
   "execution_count": null,
   "id": "6b4467ba",
   "metadata": {},
   "outputs": [],
   "source": []
  },
  {
   "cell_type": "code",
   "execution_count": null,
   "id": "74b10068",
   "metadata": {},
   "outputs": [],
   "source": []
  },
  {
   "cell_type": "code",
   "execution_count": 6,
   "id": "8ff5795d",
   "metadata": {},
   "outputs": [],
   "source": [
    "S0=50; K=50; r=0.10; T=5/12; sigma=0.40; Smax=100; M=20; N=10; CALLvsPUT='PUT'"
   ]
  },
  {
   "cell_type": "code",
   "execution_count": 7,
   "id": "108b5a69",
   "metadata": {},
   "outputs": [],
   "source": [
    "dS=Smax/float(M)\n",
    "dt=T/float(N)\n",
    "i_values=np.arange(M)\n",
    "j_values=np.arange(N)\n",
    "grid=np.zeros(shape=(M+1,N+1))\n",
    "boundary_conds=np.linspace(0,Smax,M+1)"
   ]
  },
  {
   "cell_type": "code",
   "execution_count": 8,
   "id": "daa02afa",
   "metadata": {},
   "outputs": [],
   "source": [
    "if CALLvsPUT=='CALL':\n",
    "    grid[:,-1]= np.maximum(boundary_conds-K,0)\n",
    "    grid[-1,:-1]= Smax - K*exp(-r*dt*(N-j_values))  \n",
    "if CALLvsPUT=='PUT':\n",
    "    grid[:,-1]= np.maximum(K-boundary_conds,0)\n",
    "    grid[0,:-1]=K*exp(-r*dt*(N-j_values))\n",
    "    "
   ]
  },
  {
   "cell_type": "code",
   "execution_count": 9,
   "id": "183d459c",
   "metadata": {},
   "outputs": [],
   "source": [
    "a= 0.5*dt*((r*i_values) - (sigma**2 * i_values**2))\n",
    "b= 1 + dt*((sigma**2 * i_values**2) + r)\n",
    "c= -0.5*dt*((r*i_values) + (sigma**2 * i_values**2))\n",
    "\n",
    "coeffs= np.diag(a[2:M],-1) + np.diag(b[1:M]) + np.diag(c[1:M-1],1)"
   ]
  },
  {
   "cell_type": "code",
   "execution_count": 10,
   "id": "0acf07bd",
   "metadata": {},
   "outputs": [],
   "source": [
    "P, L, U = linalg.lu(coeffs)\n",
    "aux = np.zeros(M-1)\n",
    "for j in reversed(range(N)):\n",
    "    aux[0] = np.dot(-a[1], grid[0, j])\n",
    "    x1 = linalg.solve(L, grid[1:M, j+1]+aux)\n",
    "    x2 = linalg.solve(U, x1)\n",
    "    grid[1:M, j] = x2            "
   ]
  },
  {
   "cell_type": "code",
   "execution_count": 11,
   "id": "04c1f640",
   "metadata": {},
   "outputs": [
    {
     "data": {
      "text/plain": [
       "3.911207736211867"
      ]
     },
     "execution_count": 11,
     "metadata": {},
     "output_type": "execute_result"
    }
   ],
   "source": [
    "np.interp(S0,boundary_conds,grid[:,0])"
   ]
  },
  {
   "cell_type": "code",
   "execution_count": null,
   "id": "f2b0901f",
   "metadata": {},
   "outputs": [],
   "source": []
  }
 ],
 "metadata": {
  "kernelspec": {
   "display_name": "Python 3",
   "language": "python",
   "name": "python3"
  },
  "language_info": {
   "codemirror_mode": {
    "name": "ipython",
    "version": 3
   },
   "file_extension": ".py",
   "mimetype": "text/x-python",
   "name": "python",
   "nbconvert_exporter": "python",
   "pygments_lexer": "ipython3",
   "version": "3.8.8"
  }
 },
 "nbformat": 4,
 "nbformat_minor": 5
}
