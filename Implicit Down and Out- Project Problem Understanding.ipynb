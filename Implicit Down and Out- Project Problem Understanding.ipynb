{
 "cells": [
  {
   "cell_type": "code",
   "execution_count": 1,
   "id": "a5cef068",
   "metadata": {},
   "outputs": [],
   "source": [
    "import numpy as np\n",
    "import scipy.linalg as linalg\n",
    "from numpy import exp"
   ]
  },
  {
   "cell_type": "code",
   "execution_count": 2,
   "id": "049f2799",
   "metadata": {},
   "outputs": [],
   "source": [
    "S0=40; K=40; r=0.1; T=1; sigma=0.3; Sbarrier=30; Smax=100; M=100; N=100; CALLvsPUT='PUT'"
   ]
  },
  {
   "cell_type": "code",
   "execution_count": 3,
   "id": "1b15aad6",
   "metadata": {},
   "outputs": [],
   "source": [
    "dS=(Smax-Sbarrier)/float(M)\n",
    "dt=T/float(N)\n",
    "boundary_conds=np.linspace(Sbarrier,Smax,M+1)\n",
    "i_values = boundary_conds/dS\n",
    "j_values=np.arange(N)\n",
    "grid=np.zeros(shape=(M+1,N+1))"
   ]
  },
  {
   "cell_type": "code",
   "execution_count": 4,
   "id": "2f51a4a1",
   "metadata": {
    "scrolled": true
   },
   "outputs": [
    {
     "name": "stdout",
     "output_type": "stream",
     "text": [
      "dS= 0.7\n",
      "dt= 0.01\n",
      "boundary_conds= [ 30.   30.7  31.4  32.1  32.8  33.5  34.2  34.9  35.6  36.3  37.   37.7\n",
      "  38.4  39.1  39.8  40.5  41.2  41.9  42.6  43.3  44.   44.7  45.4  46.1\n",
      "  46.8  47.5  48.2  48.9  49.6  50.3  51.   51.7  52.4  53.1  53.8  54.5\n",
      "  55.2  55.9  56.6  57.3  58.   58.7  59.4  60.1  60.8  61.5  62.2  62.9\n",
      "  63.6  64.3  65.   65.7  66.4  67.1  67.8  68.5  69.2  69.9  70.6  71.3\n",
      "  72.   72.7  73.4  74.1  74.8  75.5  76.2  76.9  77.6  78.3  79.   79.7\n",
      "  80.4  81.1  81.8  82.5  83.2  83.9  84.6  85.3  86.   86.7  87.4  88.1\n",
      "  88.8  89.5  90.2  90.9  91.6  92.3  93.   93.7  94.4  95.1  95.8  96.5\n",
      "  97.2  97.9  98.6  99.3 100. ]\n",
      "i_values= [ 42.85714286  43.85714286  44.85714286  45.85714286  46.85714286\n",
      "  47.85714286  48.85714286  49.85714286  50.85714286  51.85714286\n",
      "  52.85714286  53.85714286  54.85714286  55.85714286  56.85714286\n",
      "  57.85714286  58.85714286  59.85714286  60.85714286  61.85714286\n",
      "  62.85714286  63.85714286  64.85714286  65.85714286  66.85714286\n",
      "  67.85714286  68.85714286  69.85714286  70.85714286  71.85714286\n",
      "  72.85714286  73.85714286  74.85714286  75.85714286  76.85714286\n",
      "  77.85714286  78.85714286  79.85714286  80.85714286  81.85714286\n",
      "  82.85714286  83.85714286  84.85714286  85.85714286  86.85714286\n",
      "  87.85714286  88.85714286  89.85714286  90.85714286  91.85714286\n",
      "  92.85714286  93.85714286  94.85714286  95.85714286  96.85714286\n",
      "  97.85714286  98.85714286  99.85714286 100.85714286 101.85714286\n",
      " 102.85714286 103.85714286 104.85714286 105.85714286 106.85714286\n",
      " 107.85714286 108.85714286 109.85714286 110.85714286 111.85714286\n",
      " 112.85714286 113.85714286 114.85714286 115.85714286 116.85714286\n",
      " 117.85714286 118.85714286 119.85714286 120.85714286 121.85714286\n",
      " 122.85714286 123.85714286 124.85714286 125.85714286 126.85714286\n",
      " 127.85714286 128.85714286 129.85714286 130.85714286 131.85714286\n",
      " 132.85714286 133.85714286 134.85714286 135.85714286 136.85714286\n",
      " 137.85714286 138.85714286 139.85714286 140.85714286 141.85714286\n",
      " 142.85714286]\n"
     ]
    }
   ],
   "source": [
    "print('dS=',dS);print('dt=',dt);print('boundary_conds=',boundary_conds);print('i_values=',i_values)"
   ]
  },
  {
   "cell_type": "code",
   "execution_count": 9,
   "id": "db4405ed",
   "metadata": {},
   "outputs": [
    {
     "name": "stdout",
     "output_type": "stream",
     "text": [
      "[10.   9.3  8.6  7.9  7.2  6.5  5.8  5.1  4.4  3.7  3.   2.3  1.6  0.9\n",
      "  0.2  0.   0.   0.   0.   0.   0.   0.   0.   0.   0.   0.   0.   0.\n",
      "  0.   0.   0.   0.   0.   0.   0.   0.   0.   0.   0.   0.   0.   0.\n",
      "  0.   0.   0.   0.   0.   0.   0.   0.   0.   0.   0.   0.   0.   0.\n",
      "  0.   0.   0.   0.   0.   0.   0.   0.   0.   0.   0.   0.   0.   0.\n",
      "  0.   0.   0.   0.   0.   0.   0.   0.   0.   0.   0.   0.   0.   0.\n",
      "  0.   0.   0.   0.   0.   0.   0.   0.   0.   0.   0.   0.   0.   0.\n",
      "  0.   0.   0. ]\n",
      "[0. 0. 0. 0. 0. 0. 0. 0. 0. 0. 0. 0. 0. 0. 0. 0. 0. 0. 0. 0. 0. 0. 0. 0.\n",
      " 0. 0. 0. 0. 0. 0. 0. 0. 0. 0. 0. 0. 0. 0. 0. 0. 0. 0. 0. 0. 0. 0. 0. 0.\n",
      " 0. 0. 0. 0. 0. 0. 0. 0. 0. 0. 0. 0. 0. 0. 0. 0. 0. 0. 0. 0. 0. 0. 0. 0.\n",
      " 0. 0. 0. 0. 0. 0. 0. 0. 0. 0. 0. 0. 0. 0. 0. 0. 0. 0. 0. 0. 0. 0. 0. 0.\n",
      " 0. 0. 0. 0. 0.]\n",
      "[0.  9.3 8.6 7.9 7.2 6.5 5.8 5.1 4.4 3.7 3.  2.3 1.6 0.9 0.2 0.  0.  0.\n",
      " 0.  0.  0.  0.  0.  0.  0.  0.  0.  0.  0.  0.  0.  0.  0.  0.  0.  0.\n",
      " 0.  0.  0.  0.  0.  0.  0.  0.  0.  0.  0.  0.  0.  0.  0.  0.  0.  0.\n",
      " 0.  0.  0.  0.  0.  0.  0.  0.  0.  0.  0.  0.  0.  0.  0.  0.  0.  0.\n",
      " 0.  0.  0.  0.  0.  0.  0.  0.  0.  0.  0.  0.  0.  0.  0.  0.  0.  0.\n",
      " 0.  0.  0.  0.  0.  0.  0.  0.  0.  0.  0. ]\n"
     ]
    }
   ],
   "source": [
    "if CALLvsPUT=='CALL':\n",
    "    grid[:, -1]= np.maximum(boundary_conds-K,0)\n",
    "    grid[-1, :-1]= Smax - K*exp(-r*dt*(N-j_values)) \n",
    "        \n",
    "if CALLvsPUT=='PUT':\n",
    "    grid[:, -1] = np.maximum(K-boundary_conds, 0)\n",
    "    print(grid[:, -1])\n",
    "    grid[0, :] = 0.0\n",
    "    print(grid[0, :])\n",
    "    print(grid[:, -1]) ## value changing from max(40-30,0) to zero bcoz of touching barrier"
   ]
  },
  {
   "cell_type": "code",
   "execution_count": 6,
   "id": "73567990",
   "metadata": {},
   "outputs": [],
   "source": [
    "a= 0.5*dt*((r*i_values) - (sigma**2 * i_values**2))\n",
    "b= 1 + dt*((sigma**2 * i_values**2) + r)\n",
    "c= -0.5*dt*((r*i_values) + (sigma**2 * i_values**2))\n",
    "\n",
    "coeffs= np.diag(a[2:M],-1) + np.diag(b[1:M]) + np.diag(c[1:M-1],1)\n",
    "P, L, U = linalg.lu(coeffs)\n",
    "aux = np.zeros(M-1)\n",
    "for j in reversed(range(N)):\n",
    "    aux[0] = np.dot(a[1], grid[0, j])\n",
    "    aux[-1]= np.dot(c[-1],grid[-1,j])\n",
    "    x1 = linalg.solve(L, grid[1:M, j+1]-aux)\n",
    "    x2 = linalg.solve(U, x1)\n",
    "    grid[1:M, j] = x2            "
   ]
  },
  {
   "cell_type": "code",
   "execution_count": 7,
   "id": "86a68bc3",
   "metadata": {},
   "outputs": [
    {
     "data": {
      "text/plain": [
       "0.5913565603678127"
      ]
     },
     "execution_count": 7,
     "metadata": {},
     "output_type": "execute_result"
    }
   ],
   "source": [
    "np.interp(S0,boundary_conds,grid[:,0])"
   ]
  },
  {
   "cell_type": "code",
   "execution_count": null,
   "id": "ee3a22ac",
   "metadata": {},
   "outputs": [],
   "source": []
  }
 ],
 "metadata": {
  "kernelspec": {
   "display_name": "Python 3",
   "language": "python",
   "name": "python3"
  },
  "language_info": {
   "codemirror_mode": {
    "name": "ipython",
    "version": 3
   },
   "file_extension": ".py",
   "mimetype": "text/x-python",
   "name": "python",
   "nbconvert_exporter": "python",
   "pygments_lexer": "ipython3",
   "version": "3.8.8"
  }
 },
 "nbformat": 4,
 "nbformat_minor": 5
}
