{
 "cells": [
  {
   "cell_type": "code",
   "execution_count": 1,
   "metadata": {},
   "outputs": [],
   "source": [
    "import numpy as np"
   ]
  },
  {
   "cell_type": "code",
   "execution_count": 2,
   "metadata": {},
   "outputs": [],
   "source": [
    "def implicit_fin_diff(S,K,T,sigma,r,q,N,Nj,CallPut):    \n",
    "    dt = T/N;    #dx = sigma*np.sqrt(3*dt)\n",
    "    dx = 1.0/(2*Nj+1)\n",
    "    nu = r - q - 0.5*sigma**2\n",
    "    pu = -0.5*dt*((sigma/dx)**2 + nu/dx);   pm = 1.0 + dt*(sigma/dx)**2 + r*dt;    pd = -0.5*dt*((sigma/dx)**2 - nu/dx)\n",
    "    grid = np.zeros(2*Nj+1)\n",
    "    \n",
    "    # Asset prices at maturity:\n",
    "    St = [S*np.exp(-Nj*dx)]\n",
    "    for j in range(1, 2*Nj+1):\n",
    "        St.append(St[j-1]*np.exp(dx))\n",
    "    \n",
    "    # Option value at maturity:\n",
    "    for j in range(2*Nj+1):\n",
    "        if CallPut == 'Call':\n",
    "            grid[j] = max(0, St[j] - K)\n",
    "        elif CallPut == 'Put':\n",
    "            grid[j] = max(0, K - St[j])\n",
    "    \n",
    "    # Boundary Conditions:\n",
    "    if CallPut == 'Call':\n",
    "        lambdaU = St[2*Nj] - St[2*Nj-1];    lambdaL = 0.0;\n",
    "    elif CallPut == 'Put':\n",
    "        lambdaU = 0.0;  lambdaL = -1.0*(St[1] - St[0])\n",
    "    \n",
    "    # Backwards computing through grid\n",
    "    def tridiagonal(C,pU,pM,pD,lambda_L,lambda_U,nj):\n",
    "        C1 = np.zeros(2*nj+1)     \n",
    "        pmp = [pM+pD]\n",
    "        pp = [C[1]+pD*lambda_L]\n",
    "        for j in range(2,2*nj):\n",
    "            pmp.append(pM - pU*pD/pmp[j-2])\n",
    "            pp.append(C[j] - pp[j-2]*pD/pmp[j-2])\n",
    "        C1[2*nj] = (pp[len(pp)-1] + pmp[len(pmp)-1]*lambda_U)/(pU + pmp[len(pmp)-1])\n",
    "        C1[2*nj-1] = C1[2*nj] - lambda_U\n",
    "        for j in range(2*nj-2, -1, -1):\n",
    "            C1[j] = (pp[j-1] - pU*C1[j+1])/pmp[j-1]\n",
    "        C1[0] = C1[1] - lambda_L\n",
    "        return C1\n",
    "    \n",
    "    for i in range(N):  \n",
    "        grid = tridiagonal(grid,pu,pm,pd,lambdaL,lambdaU,Nj)\n",
    "    \n",
    "    return grid[Nj]"
   ]
  },
  {
   "cell_type": "code",
   "execution_count": 3,
   "metadata": {},
   "outputs": [
    {
     "name": "stdout",
     "output_type": "stream",
     "text": [
      "2.8884560893904734\n"
     ]
    }
   ],
   "source": [
    "Ans=implicit_fin_diff(40,40,1,0.3,0.1,0,400,400,'Put')\n",
    "print(Ans)"
   ]
  },
  {
   "cell_type": "code",
   "execution_count": 4,
   "metadata": {},
   "outputs": [
    {
     "ename": "SyntaxError",
     "evalue": "invalid syntax (<ipython-input-4-1939bd7cec58>, line 1)",
     "output_type": "error",
     "traceback": [
      "\u001b[1;36m  File \u001b[1;32m\"<ipython-input-4-1939bd7cec58>\"\u001b[1;36m, line \u001b[1;32m1\u001b[0m\n\u001b[1;33m    (self, S0, K, r, T, sigma, Smax, M, N, is_call=True)\u001b[0m\n\u001b[1;37m                                                  ^\u001b[0m\n\u001b[1;31mSyntaxError\u001b[0m\u001b[1;31m:\u001b[0m invalid syntax\n"
     ]
    }
   ],
   "source": [
    "(self, S0, K, r, T, sigma, Smax, M, N, is_call=True)\n",
    "(40, 40, 0.1, 1.0, 0.3, 100, 400, 400, False)"
   ]
  }
 ],
 "metadata": {
  "kernelspec": {
   "display_name": "Python 3",
   "language": "python",
   "name": "python3"
  },
  "language_info": {
   "codemirror_mode": {
    "name": "ipython",
    "version": 3
   },
   "file_extension": ".py",
   "mimetype": "text/x-python",
   "name": "python",
   "nbconvert_exporter": "python",
   "pygments_lexer": "ipython3",
   "version": "3.8.8"
  },
  "vscode": {
   "interpreter": {
    "hash": "5238573367df39f7286bb46f9ff5f08f63a01a80960060ce41e3c79b190280fa"
   }
  }
 },
 "nbformat": 4,
 "nbformat_minor": 2
}
