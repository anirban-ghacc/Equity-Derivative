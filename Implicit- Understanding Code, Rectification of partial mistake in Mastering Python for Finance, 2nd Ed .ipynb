{
 "cells": [
  {
   "cell_type": "code",
   "execution_count": 1,
   "id": "7acb4990",
   "metadata": {},
   "outputs": [],
   "source": [
    "import numpy as np\n",
    "import scipy.linalg as linalg\n",
    "from numpy import exp"
   ]
  },
  {
   "cell_type": "code",
   "execution_count": 2,
   "id": "371e75e1",
   "metadata": {},
   "outputs": [],
   "source": [
    "S0=40; K=40; r=0.1; T=1; sigma=0.3; Smax=100; M=100; N=400; CALLvsPUT='CALL'"
   ]
  },
  {
   "cell_type": "code",
   "execution_count": 3,
   "id": "590acb9a",
   "metadata": {},
   "outputs": [],
   "source": [
    "dS=Smax/float(M)\n",
    "dt=T/float(N)\n",
    "i_values=np.arange(M)\n",
    "j_values=np.arange(N)\n",
    "grid=np.zeros(shape=(M+1,N+1))\n",
    "boundary_conds=np.linspace(0,Smax,M+1)"
   ]
  },
  {
   "cell_type": "code",
   "execution_count": 4,
   "id": "4a2b87e2",
   "metadata": {},
   "outputs": [],
   "source": [
    "if CALLvsPUT=='CALL':\n",
    "    grid[:,-1]= np.maximum(boundary_conds-K,0)\n",
    "    grid[-1,:-1]= Smax - K*exp(-r*dt*(N-j_values))  \n",
    "if CALLvsPUT=='PUT':\n",
    "    grid[:,-1]= np.maximum(K-boundary_conds,0)\n",
    "    grid[0,:-1]=K*exp(-r*dt*(N-j_values))   "
   ]
  },
  {
   "cell_type": "code",
   "execution_count": 5,
   "id": "01f31262",
   "metadata": {},
   "outputs": [],
   "source": [
    "a= 0.5*dt*((r*i_values) - (sigma**2 * i_values**2))\n",
    "b= 1 + dt*((sigma**2 * i_values**2) + r)\n",
    "c= -0.5*dt*((r*i_values) + (sigma**2 * i_values**2))\n",
    "\n",
    "coeffs= np.diag(a[2:M],-1) + np.diag(b[1:M]) + np.diag(c[1:M-1],1)"
   ]
  },
  {
   "cell_type": "code",
   "execution_count": 6,
   "id": "9e46e15e",
   "metadata": {},
   "outputs": [],
   "source": [
    "P, L, U = linalg.lu(coeffs)\n",
    "aux = np.zeros(M-1)\n",
    "for j in reversed(range(N)):\n",
    "    aux[0] = np.dot(-a[1], grid[0, j])\n",
    "    x1 = linalg.solve(L, grid[1:M, j+1]+aux)\n",
    "    x2 = linalg.solve(U, x1)\n",
    "    grid[1:M, j] = x2            "
   ]
  },
  {
   "cell_type": "code",
   "execution_count": 7,
   "id": "f7195585",
   "metadata": {},
   "outputs": [
    {
     "data": {
      "text/plain": [
       "6.465461905598071"
      ]
     },
     "execution_count": 7,
     "metadata": {},
     "output_type": "execute_result"
    }
   ],
   "source": [
    "np.interp(S0,boundary_conds,grid[:,0])"
   ]
  },
  {
   "cell_type": "markdown",
   "id": "5cfb038b",
   "metadata": {},
   "source": [
    "Code with one additional step (one extra line) necessary for CALL Option:"
   ]
  },
  {
   "cell_type": "code",
   "execution_count": 8,
   "id": "e8cfcc9d",
   "metadata": {},
   "outputs": [],
   "source": [
    "def ImplicitFDS(S0,K,r,T,sigma,Smax,M,N,CALLvsPUT):\n",
    "    dS=Smax/float(M)\n",
    "    dt=T/float(N)\n",
    "    i_values=np.arange(M)\n",
    "    j_values=np.arange(N)\n",
    "    grid=np.zeros(shape=(M+1,N+1))\n",
    "    boundary_conds=np.linspace(0,Smax,M+1)\n",
    "    \n",
    "    if CALLvsPUT=='CALL':\n",
    "        grid[:,-1]= np.maximum(boundary_conds-K,0)\n",
    "        grid[-1,:-1]= Smax - K*exp(-r*dt*(N-j_values))  \n",
    "    if CALLvsPUT=='PUT':\n",
    "        grid[:,-1]= np.maximum(K-boundary_conds,0)\n",
    "        grid[0,:-1]=K*exp(-r*dt*(N-j_values))\n",
    "        \n",
    "    a= 0.5*dt*((r*i_values) - (sigma**2 * i_values**2))\n",
    "    b= 1 + dt*((sigma**2 * i_values**2) + r)\n",
    "    c= -0.5*dt*((r*i_values) + (sigma**2 * i_values**2))\n",
    "    coeffs= np.diag(a[2:M],-1) + np.diag(b[1:M]) + np.diag(c[1:M-1],1)\n",
    "    \n",
    "    P, L, U = linalg.lu(coeffs)\n",
    "    aux = np.zeros(M-1)\n",
    "    for j in reversed(range(N)):\n",
    "        aux[0] = np.dot(-a[1], grid[0, j])\n",
    "        ''' The additional step: '''\n",
    "        aux[-1]= np.dot(-c[-1],grid[-1,j])      \n",
    "        x1 = linalg.solve(L, grid[1:M, j+1]+aux)\n",
    "        x2 = linalg.solve(U, x1)\n",
    "        grid[1:M, j] = x2  \n",
    "    \n",
    "    return np.interp(S0,boundary_conds,grid[:,0])"
   ]
  },
  {
   "cell_type": "code",
   "execution_count": 9,
   "id": "dc1a7aed",
   "metadata": {},
   "outputs": [
    {
     "name": "stdout",
     "output_type": "stream",
     "text": [
      "6.6878713497688995\n"
     ]
    }
   ],
   "source": [
    "print(ImplicitFDS(S0=40, K=40, r=0.1, T=1, sigma=0.3, Smax=100, M=100, N=400, CALLvsPUT='CALL'))"
   ]
  },
  {
   "cell_type": "code",
   "execution_count": 10,
   "id": "43fc3c60",
   "metadata": {},
   "outputs": [
    {
     "name": "stdout",
     "output_type": "stream",
     "text": [
      "[  6.  15. -23.]\n"
     ]
    }
   ],
   "source": [
    "A = np.array([\n",
    "[2., 1., 1.],\n",
    "[1., 3., 2.],\n",
    "[1., 0., 0.]])\n",
    "B = np.array([4., 5., 6.])\n",
    "# Perform LU decomposition\n",
    "LU = linalg.lu_factor(A)\n",
    "x = linalg.lu_solve(LU, B)\n",
    "print(x)"
   ]
  },
  {
   "cell_type": "code",
   "execution_count": null,
   "id": "d172cbd5",
   "metadata": {},
   "outputs": [],
   "source": []
  }
 ],
 "metadata": {
  "kernelspec": {
   "display_name": "Python 3",
   "language": "python",
   "name": "python3"
  },
  "language_info": {
   "codemirror_mode": {
    "name": "ipython",
    "version": 3
   },
   "file_extension": ".py",
   "mimetype": "text/x-python",
   "name": "python",
   "nbconvert_exporter": "python",
   "pygments_lexer": "ipython3",
   "version": "3.8.8"
  },
  "vscode": {
   "interpreter": {
    "hash": "5238573367df39f7286bb46f9ff5f08f63a01a80960060ce41e3c79b190280fa"
   }
  }
 },
 "nbformat": 4,
 "nbformat_minor": 5
}
