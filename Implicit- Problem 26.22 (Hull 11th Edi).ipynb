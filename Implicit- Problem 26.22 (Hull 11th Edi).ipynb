{
 "cells": [
  {
   "cell_type": "code",
   "execution_count": 1,
   "id": "a5cef068",
   "metadata": {},
   "outputs": [],
   "source": [
    "import numpy as np\n",
    "import scipy.linalg as linalg\n",
    "from numpy import exp"
   ]
  },
  {
   "cell_type": "code",
   "execution_count": 2,
   "id": "55bd5ae7",
   "metadata": {},
   "outputs": [],
   "source": [
    "def Implicit(S0, K, T, r, sigma, Smax, M, N, CALLvsPUT):\n",
    "    dS=Smax/float(M)\n",
    "    dt=T/float(N)\n",
    "    i_values=np.arange(M)\n",
    "    j_values=np.arange(N)\n",
    "    grid=np.zeros(shape=(M+1,N+1))\n",
    "    boundary_conds=np.linspace(0,Smax,M+1)\n",
    "    \n",
    "    if CALLvsPUT=='CALL':\n",
    "        grid[:,-1]= np.maximum(boundary_conds-K,0)\n",
    "        grid[-1,:-1]= Smax - K*exp(-r*dt*(N-j_values))  \n",
    "    if CALLvsPUT=='PUT':\n",
    "        grid[:,-1]= np.maximum(K-boundary_conds,0)\n",
    "        grid[0,:-1]=K*exp(-r*dt*(N-j_values))\n",
    "\n",
    "    a= 0.5*dt*((r*i_values) - (sigma**2 * i_values**2))\n",
    "    b= 1 + dt*((sigma**2 * i_values**2) + r)\n",
    "    c= -0.5*dt*((r*i_values) + (sigma**2 * i_values**2))\n",
    "\n",
    "    coeffs= np.diag(a[2:M],-1) + np.diag(b[1:M]) + np.diag(c[1:M-1],1)\n",
    "    P, L, U = linalg.lu(coeffs)\n",
    "    aux = np.zeros(M-1)\n",
    "    for j in reversed(range(N)):\n",
    "        aux[0] = np.dot(a[1], grid[0, j])\n",
    "        aux[-1]= np.dot(c[-1],grid[-1,j])\n",
    "        x1 = linalg.solve(L, grid[1:M, j+1]-aux)\n",
    "        x2 = linalg.solve(U, x1)\n",
    "        grid[1:M, j] = x2            \n",
    "    \n",
    "    return np.interp(S0,boundary_conds,grid[:,0])"
   ]
  },
  {
   "cell_type": "code",
   "execution_count": 3,
   "id": "436d67ce",
   "metadata": {
    "scrolled": true
   },
   "outputs": [
    {
     "name": "stdout",
     "output_type": "stream",
     "text": [
      "7.113401230132914\n"
     ]
    }
   ],
   "source": [
    "Ans_a= Implicit(50,50,1,0.05,0.30,100,400,400,'CALL')\n",
    "print(Ans_a)"
   ]
  },
  {
   "cell_type": "code",
   "execution_count": 4,
   "id": "73567990",
   "metadata": {},
   "outputs": [],
   "source": [
    "def Implicit_DandO(S0, K, T, r, sigma, Sbarrier, Smax, M, N, CALLvsPUT):\n",
    "    dS=(Smax-Sbarrier)/float(M)\n",
    "    dt=T/float(N)\n",
    "    boundary_conds=np.linspace(Sbarrier,Smax,M+1)\n",
    "    i_values = boundary_conds/dS\n",
    "    j_values=np.arange(N)\n",
    "    grid=np.zeros(shape=(M+1,N+1))\n",
    "    \n",
    "    if CALLvsPUT=='CALL':\n",
    "        grid[:, -1]= np.maximum(boundary_conds-K,0)\n",
    "        grid[-1, :-1]= Smax - K*exp(-r*dt*(N-j_values)) \n",
    "        \n",
    "    if CALLvsPUT=='PUT':\n",
    "        grid[:, -1] = np.maximum(K-boundary_conds, 0)\n",
    "        grid[0, :] = 0.0\n",
    "        \n",
    "    a= 0.5*dt*((r*i_values) - (sigma**2 * i_values**2))\n",
    "    b= 1 + dt*((sigma**2 * i_values**2) + r)\n",
    "    c= -0.5*dt*((r*i_values) + (sigma**2 * i_values**2))\n",
    "\n",
    "    coeffs= np.diag(a[2:M],-1) + np.diag(b[1:M]) + np.diag(c[1:M-1],1)\n",
    "    P, L, U = linalg.lu(coeffs)\n",
    "    aux = np.zeros(M-1)\n",
    "    for j in reversed(range(N)):\n",
    "        aux[0] = np.dot(a[1], grid[0, j])\n",
    "        aux[-1]= np.dot(c[-1],grid[-1,j])\n",
    "        x1 = linalg.solve(L, grid[1:M, j+1]-aux)\n",
    "        x2 = linalg.solve(U, x1)\n",
    "        grid[1:M, j] = x2            \n",
    "    \n",
    "    return np.interp(S0,boundary_conds,grid[:,0])"
   ]
  },
  {
   "cell_type": "code",
   "execution_count": 5,
   "id": "ea3a1968",
   "metadata": {
    "scrolled": true
   },
   "outputs": [
    {
     "name": "stdout",
     "output_type": "stream",
     "text": [
      "4.697423590782641\n"
     ]
    }
   ],
   "source": [
    "Ans_b= Implicit_DandO(50,50,1,0.05,0.30,45,100,400,400,'CALL')\n",
    "print(Ans_b)"
   ]
  },
  {
   "cell_type": "code",
   "execution_count": 6,
   "id": "b2dd2172",
   "metadata": {
    "scrolled": true
   },
   "outputs": [
    {
     "name": "stdout",
     "output_type": "stream",
     "text": [
      "4.700311665008838\n"
     ]
    }
   ],
   "source": [
    "Ans_b_lessfiner= Implicit_DandO(50,50,1,0.05,0.30,45,100,100,100,'CALL')\n",
    "print(Ans_b_lessfiner)"
   ]
  },
  {
   "cell_type": "code",
   "execution_count": 7,
   "id": "fe4aea5b",
   "metadata": {},
   "outputs": [],
   "source": [
    "def Implicit_DandI(S0, K, T, r, sigma, Sbarrier, Smax, M, N, CALLvsPUT):\n",
    "    dS=Sbarrier/float(M)\n",
    "    dt=T/float(N)\n",
    "    boundary_conds=np.linspace(0,Sbarrier,M+1)\n",
    "    i_values = boundary_conds/dS\n",
    "    j_values=np.arange(N)\n",
    "    grid=np.zeros(shape=(M+1,N+1))\n",
    "    \n",
    "    if CALLvsPUT=='CALL':\n",
    "        grid[:, -1]= np.maximum(boundary_conds-K,0)\n",
    "        grid[-1, :-1]= Sbarrier - K*exp(-r*dt*(N-j_values)) \n",
    "        \n",
    "    if CALLvsPUT=='PUT':\n",
    "        grid[:, -1] = np.maximum(K-boundary_conds, 0)\n",
    "        grid[0, :] = 0.0\n",
    "        \n",
    "    a= 0.5*dt*((r*i_values) - (sigma**2 * i_values**2))\n",
    "    b= 1 + dt*((sigma**2 * i_values**2) + r)\n",
    "    c= -0.5*dt*((r*i_values) + (sigma**2 * i_values**2))\n",
    "\n",
    "    coeffs= np.diag(a[2:M],-1) + np.diag(b[1:M]) + np.diag(c[1:M-1],1)\n",
    "    P, L, U = linalg.lu(coeffs)\n",
    "    aux = np.zeros(M-1)\n",
    "    for j in reversed(range(N)):\n",
    "        aux[0] = np.dot(a[1], grid[0, j])\n",
    "        aux[-1]= np.dot(c[-1],grid[-1,j])\n",
    "        x1 = linalg.solve(L, grid[1:M, j+1]-aux)\n",
    "        x2 = linalg.solve(U, x1)\n",
    "        grid[1:M, j] = x2            \n",
    "    \n",
    "    return np.interp(S0,boundary_conds,grid[:,0])"
   ]
  },
  {
   "cell_type": "code",
   "execution_count": 8,
   "id": "596de2f6",
   "metadata": {
    "scrolled": true
   },
   "outputs": [
    {
     "name": "stdout",
     "output_type": "stream",
     "text": [
      "-2.561471225035703\n"
     ]
    }
   ],
   "source": [
    "Ans_c= Implicit_DandI(50,50,1,0.05,0.30,45,100,400,400,'CALL')\n",
    "print(Ans_c)"
   ]
  },
  {
   "cell_type": "code",
   "execution_count": null,
   "id": "86a68bc3",
   "metadata": {},
   "outputs": [],
   "source": []
  }
 ],
 "metadata": {
  "kernelspec": {
   "display_name": "Python 3",
   "language": "python",
   "name": "python3"
  },
  "language_info": {
   "codemirror_mode": {
    "name": "ipython",
    "version": 3
   },
   "file_extension": ".py",
   "mimetype": "text/x-python",
   "name": "python",
   "nbconvert_exporter": "python",
   "pygments_lexer": "ipython3",
   "version": "3.8.8"
  }
 },
 "nbformat": 4,
 "nbformat_minor": 5
}
